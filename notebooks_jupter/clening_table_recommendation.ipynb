{
 "cells": [
  {
   "cell_type": "code",
   "execution_count": 13,
   "source": [
    "import pandas as pd #pandas para tratar o data frame\r\n",
    "import pandera as pa #pandera para validação dos dados\r\n",
    "from datetime import datetime #date time para trazer a captura de data."
   ],
   "outputs": [],
   "metadata": {}
  },
  {
   "cell_type": "code",
   "execution_count": 14,
   "source": [
    "# Estou defininco uma variável que será usada para captura de data para logs.\r\n",
    "log_time = datetime.today().strftime('%Y-%m-%d %H:%M')"
   ],
   "outputs": [],
   "metadata": {}
  },
  {
   "cell_type": "code",
   "execution_count": 15,
   "source": [
    "#  Estou definincdo o dataframe (df_ocurrences), csv tem por separador o ponto e virgula(;), depois estou convertendo em datas as colunas que são datas e definindo dia primeiro. \r\n",
    "df_recommendation = pd.read_csv('../Data/recomendacao_2010_2020.csv', sep=';')"
   ],
   "outputs": [],
   "metadata": {}
  },
  {
   "cell_type": "code",
   "execution_count": 16,
   "source": [
    "#removendo nullos e altrando o valor de cada uma das colunas para ver a contagem de nullos usei a função: df.isnull().sum() para ver quais colunas estavam me trazendo valores nullos\r\n",
    "df_recommendation.fillna(value={\r\n",
    "    'recomendacao_dia_feedback': '2025-01-01',\r\n",
    "    'recomendacao_conteudo': 'not informed',\r\n",
    "}, inplace=True)"
   ],
   "outputs": [],
   "metadata": {}
  },
  {
   "cell_type": "code",
   "execution_count": 17,
   "source": [
    "#Para buscar as inconsistências realizei um comando de grupby pela contagem de registros exemplo: df_ocurrences.groupby(['divulgacao_relatorio_numero']).size()\r\n",
    "conditions_dates = ['0000-00-00','0002-11-27', '0002-11-25', '0002-11-26']\r\n",
    "conditions = ['***']\r\n",
    "df_recommendation = df_recommendation.replace(conditions, 'not informed')\r\n",
    "df_recommendation = df_recommendation.replace(conditions_dates, '2025-01-01')"
   ],
   "outputs": [],
   "metadata": {}
  },
  {
   "cell_type": "code",
   "execution_count": 18,
   "source": [
    "df_recommendation['recomendacao_dia_assinatura'] = pd.to_datetime(df_recommendation['recomendacao_dia_assinatura'], dayfirst=True)\r\n",
    "df_recommendation['recomendacao_dia_feedback'] = pd.to_datetime(df_recommendation['recomendacao_dia_feedback'], dayfirst=True)\r\n",
    "df_recommendation['recomendacao_dia_encaminhamento'] = pd.to_datetime(df_recommendation['recomendacao_dia_encaminhamento'], dayfirst=True)"
   ],
   "outputs": [],
   "metadata": {}
  },
  {
   "cell_type": "code",
   "execution_count": 19,
   "source": [
    "#Criando um schema de validação para garantir que não ficou nenhum dado null\r\n",
    "schema = pa.DataFrameSchema(\r\n",
    "    columns = {\r\n",
    "        \"codigo_ocorrencia4\":                  pa.Column(pa.Int),\r\n",
    "        \"recomendacao_numero\":                 pa.Column(pa.String),\r\n",
    "        \"recomendacao_dia_assinatura\":         pa.Column(pa.DateTime),\r\n",
    "        \"recomendacao_dia_encaminhamento\":     pa.Column(pa.DateTime),\r\n",
    "        \"recomendacao_dia_feedback\":           pa.Column(pa.DateTime),\r\n",
    "        \"recomendacao_conteudo\":               pa.Column(pa.String),\r\n",
    "        \"recomendacao_status\":                 pa.Column(pa.String),\r\n",
    "        \"recomendacao_destinatario_sigla\":     pa.Column(pa.String),\r\n",
    "        \"recomendacao_destinatario\":           pa.Column(pa.String),\r\n",
    "    }\r\n",
    ")\r\n"
   ],
   "outputs": [],
   "metadata": {}
  },
  {
   "cell_type": "code",
   "execution_count": 20,
   "source": [
    "#Realizando a validação e gerando log da validação\r\n",
    "try: \r\n",
    "    schema.validate(df_recommendation)  \r\n",
    "    log_null_and_datatypes = 'Validado sem números nullos, e com tipo de dado correto ({})'.format(log_time)    \r\n",
    "    print(log_null_and_datatypes)\r\n",
    "except: \r\n",
    "    print('Não Validado') \r\n",
    "    schema.validate(df_recommendation) "
   ],
   "outputs": [
    {
     "output_type": "stream",
     "name": "stdout",
     "text": [
      "Validado sem números nullos, e com tipo de dado correto (2021-08-29 18:30)\n"
     ]
    }
   ],
   "metadata": {}
  },
  {
   "cell_type": "code",
   "execution_count": 21,
   "source": [
    "df_recommendation.to_csv('../Data_Trait/Data_csv_files/recommendation_2010_2020.csv', encoding='utf-8')"
   ],
   "outputs": [],
   "metadata": {}
  }
 ],
 "metadata": {
  "orig_nbformat": 4,
  "language_info": {
   "name": "python",
   "version": "3.9.6",
   "mimetype": "text/x-python",
   "codemirror_mode": {
    "name": "ipython",
    "version": 3
   },
   "pygments_lexer": "ipython3",
   "nbconvert_exporter": "python",
   "file_extension": ".py"
  },
  "kernelspec": {
   "name": "python3",
   "display_name": "Python 3.9.6 64-bit"
  },
  "interpreter": {
   "hash": "2647ea34e536f865ab67ff9ddee7fd78773d956cec0cab53c79b32cd10da5d83"
  }
 },
 "nbformat": 4,
 "nbformat_minor": 2
}