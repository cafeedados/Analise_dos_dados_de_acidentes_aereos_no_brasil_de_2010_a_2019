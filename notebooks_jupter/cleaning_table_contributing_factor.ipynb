{
 "cells": [
  {
   "cell_type": "code",
   "execution_count": 1,
   "source": [
    "import pandas as pd #pandas para tratar o data frame\r\n",
    "import pandera as pa #pandera para validação dos dados\r\n",
    "from datetime import datetime #date time para trazer a captura de data."
   ],
   "outputs": [],
   "metadata": {}
  },
  {
   "cell_type": "code",
   "execution_count": 2,
   "source": [
    "# Estou defininco uma variável que será usada para captura de data para logs.\r\n",
    "log_time = datetime.today().strftime('%Y-%m-%d %H:%M')"
   ],
   "outputs": [],
   "metadata": {}
  },
  {
   "cell_type": "code",
   "execution_count": 3,
   "source": [
    "#  Estou definincdo o dataframe (df_ocurrences), csv tem por separador o ponto e virgula(;), depois estou convertendo em datas as colunas que são datas e definindo dia primeiro. \r\n",
    "df_contributing_factor = pd.read_csv('../Data/fator_contribuinte_2010_2020.csv', sep=';')"
   ],
   "outputs": [],
   "metadata": {}
  },
  {
   "cell_type": "code",
   "execution_count": 4,
   "source": [
    "schema = pa.DataFrameSchema(\r\n",
    "    columns = {    \r\n",
    "            \"codigo_ocorrencia3\":      pa.Column(pa.Int),\r\n",
    "            \"fator_nome\":              pa.Column(pa.String),\r\n",
    "            \"fator_aspecto\":           pa.Column(pa.String),\r\n",
    "            \"fator_condicionante\":     pa.Column(pa.String),\r\n",
    "            \"fator_area\":              pa.Column(pa.String)\r\n",
    "    }\r\n",
    ")"
   ],
   "outputs": [],
   "metadata": {}
  },
  {
   "cell_type": "code",
   "execution_count": 5,
   "source": [
    "#Realizando a validação e gerando log da validação\r\n",
    "try: \r\n",
    "    schema.validate(df_contributing_factor)  \r\n",
    "    log_null_and_datatypes = 'Validado sem números nullos, e com tipo de dado correto ({})'.format(log_time)    \r\n",
    "    print(log_null_and_datatypes)\r\n",
    "except: \r\n",
    "    print('Não Validado') \r\n",
    "    schema.validate(df_contributing_factor) "
   ],
   "outputs": [
    {
     "output_type": "stream",
     "name": "stdout",
     "text": [
      "Validado sem números nullos, e com tipo de dado correto (2021-08-29 18:31)\n"
     ]
    }
   ],
   "metadata": {}
  },
  {
   "cell_type": "code",
   "execution_count": 6,
   "source": [
    "conditions = ['***', '****', '*****', '*******', '*********', '****_***']\r\n",
    "df_contributing_factor = df_contributing_factor.replace(conditions, 'not informed')"
   ],
   "outputs": [],
   "metadata": {}
  },
  {
   "cell_type": "code",
   "execution_count": 7,
   "source": [
    "df_contributing_factor.to_csv('../Data_Trait/Data_csv_files/contributing_factor_2010_2020.csv', encoding='utf-8')"
   ],
   "outputs": [],
   "metadata": {}
  }
 ],
 "metadata": {
  "orig_nbformat": 4,
  "language_info": {
   "name": "python",
   "version": "3.9.6",
   "mimetype": "text/x-python",
   "codemirror_mode": {
    "name": "ipython",
    "version": 3
   },
   "pygments_lexer": "ipython3",
   "nbconvert_exporter": "python",
   "file_extension": ".py"
  },
  "kernelspec": {
   "name": "python3",
   "display_name": "Python 3.9.6 64-bit"
  },
  "interpreter": {
   "hash": "2647ea34e536f865ab67ff9ddee7fd78773d956cec0cab53c79b32cd10da5d83"
  }
 },
 "nbformat": 4,
 "nbformat_minor": 2
}