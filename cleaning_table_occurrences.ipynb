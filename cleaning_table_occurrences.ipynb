{
 "cells": [
  {
   "cell_type": "code",
   "execution_count": 22,
   "source": [
    "import pandas as pd #pandas para tratar o data frame\r\n",
    "import pandera as pa #pandera para validação dos dados\r\n",
    "from datetime import datetime #date time para trazer a captura de data.\r\n"
   ],
   "outputs": [],
   "metadata": {}
  },
  {
   "cell_type": "code",
   "execution_count": 23,
   "source": [
    "# Estou defininco uma variável que será usada para captura de data para logs.\r\n",
    "log_time = datetime.today().strftime('%Y-%m-%d %H:%M')"
   ],
   "outputs": [],
   "metadata": {}
  },
  {
   "cell_type": "code",
   "execution_count": 24,
   "source": [
    "#  Estou definincdo o dataframe (df_ocurrences), csv tem por separador o ponto e virgula(;), depois estou convertendo em datas as colunas que são datas e definindo dia primeiro. \r\n",
    "df_ocurrences = pd.read_csv('Data/ocorrencia_2010_2020.csv', sep=';')\r\n"
   ],
   "outputs": [],
   "metadata": {}
  },
  {
   "cell_type": "code",
   "execution_count": 25,
   "source": [
    "#removendo nullos e altrando o valor de cada uma das colunas para ver a contagem de nullos usei a função: df.isnull().sum() para ver quais colunas estavam me trazendo valores nullos\r\n",
    "df_ocurrences.fillna(value={\r\n",
    "    'ocorrencia_latitude': 'not informed' ,\r\n",
    "    'ocorrencia_longitude': 'not informed',\r\n",
    "    'ocorrencia_hora': 'not informed',\r\n",
    "    'investigacao_aeronave_liberada': 'not informed',\r\n",
    "    'investigacao_status': 'not informed',\r\n",
    "    'divulgacao_relatorio_numero': 'not informed',\r\n",
    "    'divulgacao_dia_publicacao' : '2025-01-01'\r\n",
    "}, inplace=True)"
   ],
   "outputs": [],
   "metadata": {}
  },
  {
   "cell_type": "code",
   "execution_count": 26,
   "source": [
    "# Convertendo String em datas, e falando que quero que o primeiro digito é o dia pois ele estava vindo: yyyy-dd-mm após essa clausula vai para yyyy-mm-dd\r\n",
    "df_ocurrences['ocorrencia_dia'] = pd.to_datetime(df_ocurrences['ocorrencia_dia'], dayfirst=True)\r\n",
    "df_ocurrences['divulgacao_dia_publicacao'] = pd.to_datetime(df_ocurrences['divulgacao_dia_publicacao'], dayfirst=True)"
   ],
   "outputs": [],
   "metadata": {}
  },
  {
   "cell_type": "code",
   "execution_count": 27,
   "source": [
    "#Criando um schema de validação para garantir que não ficou nenhum dado null\r\n",
    "schema = pa.DataFrameSchema(\r\n",
    "    columns = {\r\n",
    "        \"codigo_ocorrencia\" :              pa.Column(pa.Int),\r\n",
    "        \"codigo_ocorrencia1\":              pa.Column(pa.Int),\r\n",
    "        \"codigo_ocorrencia2\":              pa.Column(pa.Int),\r\n",
    "        \"codigo_ocorrencia3\":              pa.Column(pa.Int),\r\n",
    "        \"codigo_ocorrencia4\":              pa.Column(pa.Int),\r\n",
    "        \"ocorrencia_classificacao\":        pa.Column(pa.String),\r\n",
    "        \"ocorrencia_latitude\":             pa.Column(pa.String),\r\n",
    "        \"ocorrencia_longitude\":            pa.Column(pa.String),\r\n",
    "        \"ocorrencia_cidade\":               pa.Column(pa.String),\r\n",
    "        \"ocorrencia_uf\":                   pa.Column(pa.String),\r\n",
    "        \"ocorrencia_pais\":                 pa.Column(pa.String),\r\n",
    "        \"ocorrencia_aerodromo\":            pa.Column(pa.String),\r\n",
    "        \"ocorrencia_dia\":                  pa.Column(pa.DateTime),\r\n",
    "        \"ocorrencia_hora\":                 pa.Column(pa.String),\r\n",
    "        \"investigacao_aeronave_liberada\":  pa.Column(pa.String),\r\n",
    "        \"investigacao_status\":             pa.Column(pa.String),\r\n",
    "        \"divulgacao_relatorio_numero\":     pa.Column(pa.String),\r\n",
    "        \"divulgacao_relatorio_publicado\":  pa.Column(pa.String),\r\n",
    "        \"divulgacao_dia_publicacao\":       pa.Column(pa.DateTime),\r\n",
    "        \"total_recomendacoes\":             pa.Column(pa.Int),\r\n",
    "        \"total_aeronaves_envolvidas\":      pa.Column(pa.Int),\r\n",
    "        \"ocorrencia_saida_pista\":          pa.Column(pa.String),\r\n",
    "    }\r\n",
    ")\r\n"
   ],
   "outputs": [],
   "metadata": {}
  },
  {
   "cell_type": "code",
   "execution_count": 28,
   "source": [
    "#Realizando a validação e gerando log da validação\r\n",
    "try: \r\n",
    "    schema.validate(df_ocurrences)  \r\n",
    "    log_null_and_datatypes = 'Validado sem números nullos, e com tipo de dado correto ({})'.format(log_time)    \r\n",
    "    print(log_null_and_datatypes)\r\n",
    "except: \r\n",
    "    print('Não Validado') \r\n",
    "    schema.validate(df_ocurrences) \r\n",
    "    "
   ],
   "outputs": [
    {
     "output_type": "stream",
     "name": "stdout",
     "text": [
      "Validado sem números nullos, e com tipo de dado correto (2021-08-29 12:40)\n"
     ]
    }
   ],
   "metadata": {}
  },
  {
   "cell_type": "code",
   "execution_count": 29,
   "source": [
    "#Para buscar as inconsistências realizei um comando de grupby pela contagem de registros exemplo: df_ocurrences.groupby(['divulgacao_relatorio_numero']).size()\r\n",
    "conditions = ['*', '**', '***', '****', '*****', '*******', '*********', '****_***', '****_****', '+', 'NÃO HÁ', '###!', '####']\r\n",
    "df_ocurrences = df_ocurrences.replace(conditions, 'not informed')"
   ],
   "outputs": [],
   "metadata": {}
  },
  {
   "cell_type": "code",
   "execution_count": 30,
   "source": [
    "df_ocurrences.to_csv('Data_Trait/Data_csv_files/occurrences_2010_2020.csv', encoding='utf-8')"
   ],
   "outputs": [],
   "metadata": {}
  }
 ],
 "metadata": {
  "orig_nbformat": 4,
  "language_info": {
   "name": "python",
   "version": "3.9.6",
   "mimetype": "text/x-python",
   "codemirror_mode": {
    "name": "ipython",
    "version": 3
   },
   "pygments_lexer": "ipython3",
   "nbconvert_exporter": "python",
   "file_extension": ".py"
  },
  "kernelspec": {
   "name": "python3",
   "display_name": "Python 3.9.6 64-bit"
  },
  "interpreter": {
   "hash": "2647ea34e536f865ab67ff9ddee7fd78773d956cec0cab53c79b32cd10da5d83"
  }
 },
 "nbformat": 4,
 "nbformat_minor": 2
}