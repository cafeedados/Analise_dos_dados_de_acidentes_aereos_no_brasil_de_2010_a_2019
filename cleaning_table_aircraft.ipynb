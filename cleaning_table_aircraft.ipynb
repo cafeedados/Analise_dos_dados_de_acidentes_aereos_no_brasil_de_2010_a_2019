{
 "cells": [
  {
   "cell_type": "code",
   "execution_count": 34,
   "source": [
    "import pandas as pd #pandas para tratar o data frame\r\n",
    "import pandera as pa #pandera para validação dos dados\r\n",
    "from datetime import datetime #date time para trazer a captura de data.\r\n"
   ],
   "outputs": [],
   "metadata": {}
  },
  {
   "cell_type": "code",
   "execution_count": 35,
   "source": [
    "# Estou defininco uma variável que será usada para captura de data para logs.\r\n",
    "log_time = datetime.today().strftime('%Y-%m-%d %H:%M')"
   ],
   "outputs": [],
   "metadata": {}
  },
  {
   "cell_type": "code",
   "execution_count": 36,
   "source": [
    "#  Estou definincdo o dataframe (df_ocurrences), csv tem por separador o ponto e virgula(;), depois estou convertendo em datas as colunas que são datas e definindo dia primeiro. \r\n",
    "df_aircraft = pd.read_csv('Data/aeronave_2010_2020.csv', sep=';')"
   ],
   "outputs": [],
   "metadata": {}
  },
  {
   "cell_type": "code",
   "execution_count": 37,
   "source": [
    "#removendo nullos e altrando o valor de cada uma das colunas para ver a contagem de nullos usei a função: df.isnull().sum() para ver quais colunas estavam me trazendo valores nullos\r\n",
    "df_aircraft.fillna('not informed', inplace=True)"
   ],
   "outputs": [],
   "metadata": {}
  },
  {
   "cell_type": "code",
   "execution_count": 38,
   "source": [
    "schema = pa.DataFrameSchema(\r\n",
    "    columns = {    \r\n",
    "            \"codigo_ocorrencia2\":             pa.Column(pa.Int),\r\n",
    "            \"aeronave_matricula\":             pa.Column(pa.String),\r\n",
    "            \"aeronave_operador_categoria\":    pa.Column(pa.String),\r\n",
    "            \"aeronave_tipo_veiculo\":          pa.Column(pa.String),\r\n",
    "            \"aeronave_fabricante\":            pa.Column(pa.String),\r\n",
    "            \"aeronave_modelo\":                pa.Column(pa.String),\r\n",
    "            \"aeronave_tipo_icao\":             pa.Column(pa.String),\r\n",
    "            \"aeronave_motor_tipo\":            pa.Column(pa.String),\r\n",
    "            \"aeronave_motor_quantidade\":      pa.Column(pa.String),\r\n",
    "            \"aeronave_pmd\":                   pa.Column(pa.Int),\r\n",
    "            \"aeronave_pmd_categoria\":         pa.Column(pa.Int),\r\n",
    "            \"aeronave_assentos\":              pa.Column(pa.String),\r\n",
    "            \"aeronave_ano_fabricacao\":        pa.Column(pa.String),\r\n",
    "            \"aeronave_pais_fabricante\":       pa.Column(pa.String),\r\n",
    "            \"aeronave_pais_registro\":         pa.Column(pa.String),\r\n",
    "            \"aeronave_registro_categoria\":    pa.Column(pa.String),\r\n",
    "            \"aeronave_registro_segmento\":     pa.Column(pa.String),\r\n",
    "            \"aeronave_voo_origem\":            pa.Column(pa.String),\r\n",
    "            \"aeronave_voo_destino\":           pa.Column(pa.String),\r\n",
    "            \"aeronave_fase_operacao\":         pa.Column(pa.String),\r\n",
    "            \"aeronave_tipo_operacao\":         pa.Column(pa.String),\r\n",
    "            \"aeronave_nivel_dano\":            pa.Column(pa.String),\r\n",
    "            \"aeronave_fatalidades_total\":     pa.Column(pa.Int),\r\n",
    "\r\n",
    "    }\r\n",
    ")\r\n"
   ],
   "outputs": [],
   "metadata": {}
  },
  {
   "cell_type": "code",
   "execution_count": 39,
   "source": [
    "#Realizando a validação e gerando log da validação\r\n",
    "try: \r\n",
    "    schema.validate(df_aircraft)  \r\n",
    "    log_null_and_datatypes = 'Validado sem números nullos, e com tipo de dado correto ({})'.format(log_time)    \r\n",
    "    print(log_null_and_datatypes)\r\n",
    "except: \r\n",
    "    print('Não Validado') \r\n",
    "    schema.validate(df_aircraft) \r\n",
    "    "
   ],
   "outputs": [
    {
     "output_type": "stream",
     "name": "stdout",
     "text": [
      "Validado sem números nullos, e com tipo de dado correto (2021-08-29 14:37)\n"
     ]
    }
   ],
   "metadata": {}
  },
  {
   "cell_type": "code",
   "execution_count": 40,
   "source": [
    "conditions = ['***', '****', '*****', '*******', '*********', '****_***']\r\n",
    "df_aircraft = df_aircraft.replace(conditions, 'not informed')"
   ],
   "outputs": [],
   "metadata": {}
  },
  {
   "cell_type": "code",
   "execution_count": 41,
   "source": [
    "df_aircraft.to_csv('Data_Trait/Data_csv_files/aircraft_2010_2020.csv', encoding='utf-8')"
   ],
   "outputs": [],
   "metadata": {}
  }
 ],
 "metadata": {
  "orig_nbformat": 4,
  "language_info": {
   "name": "python",
   "version": "3.9.6",
   "mimetype": "text/x-python",
   "codemirror_mode": {
    "name": "ipython",
    "version": 3
   },
   "pygments_lexer": "ipython3",
   "nbconvert_exporter": "python",
   "file_extension": ".py"
  },
  "kernelspec": {
   "name": "python3",
   "display_name": "Python 3.9.6 64-bit"
  },
  "interpreter": {
   "hash": "2647ea34e536f865ab67ff9ddee7fd78773d956cec0cab53c79b32cd10da5d83"
  }
 },
 "nbformat": 4,
 "nbformat_minor": 2
}