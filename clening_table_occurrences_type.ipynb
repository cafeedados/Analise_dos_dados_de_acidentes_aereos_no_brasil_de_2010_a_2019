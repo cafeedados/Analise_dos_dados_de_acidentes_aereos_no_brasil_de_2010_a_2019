{
 "cells": [
  {
   "cell_type": "code",
   "execution_count": 13,
   "source": [
    "import pandas as pd #pandas para tratar o data frame\r\n",
    "import pandera as pa #pandera para validação dos dados\r\n",
    "from datetime import datetime #date time para trazer a captura de data."
   ],
   "outputs": [],
   "metadata": {}
  },
  {
   "cell_type": "code",
   "execution_count": 14,
   "source": [
    "# Estou defininco uma variável que será usada para captura de data para logs.\r\n",
    "log_time = datetime.today().strftime('%Y-%m-%d %H:%M')"
   ],
   "outputs": [],
   "metadata": {}
  },
  {
   "cell_type": "code",
   "execution_count": 15,
   "source": [
    "#  Estou definincdo o dataframe (df_ocurrences), csv tem por separador o ponto e virgula(;), depois estou convertendo em datas as colunas que são datas e definindo dia primeiro. \r\n",
    "df_ocurrences_type = pd.read_csv('Data/ocorrencia_tipo_2010_2020.csv', sep=';')"
   ],
   "outputs": [],
   "metadata": {}
  },
  {
   "cell_type": "code",
   "execution_count": 16,
   "source": [
    "#Criando um schema de validação para garantir que não ficou nenhum dado null\r\n",
    "schema = pa.DataFrameSchema(\r\n",
    "    columns = {\r\n",
    "        \"codigo_ocorrencia1\":            pa.Column(pa.Int),\r\n",
    "        \"ocorrencia_tipo\":               pa.Column(pa.String),\r\n",
    "        \"ocorrencia_tipo_categoria\":     pa.Column(pa.String),\r\n",
    "        \"taxonomia_tipo_icao\":           pa.Column(pa.String)\r\n",
    "    }\r\n",
    ")\r\n"
   ],
   "outputs": [],
   "metadata": {}
  },
  {
   "cell_type": "code",
   "execution_count": 17,
   "source": [
    "#Realizando a validação e gerando log da validação\r\n",
    "try: \r\n",
    "    schema.validate(df_ocurrences_type)  \r\n",
    "    log_null_and_datatypes = 'Validado sem números nullos, e com tipo de dado correto ({})'.format(log_time)    \r\n",
    "    print(log_null_and_datatypes)\r\n",
    "except: \r\n",
    "    print('Não Validado') \r\n",
    "    schema.validate(df_ocurrences_type) "
   ],
   "outputs": [
    {
     "output_type": "stream",
     "name": "stdout",
     "text": [
      "Validado sem números nullos, e com tipo de dado correto (2021-08-29 16:34)\n"
     ]
    }
   ],
   "metadata": {}
  },
  {
   "cell_type": "code",
   "execution_count": 18,
   "source": [
    "#Para buscar as inconsistências realizei um comando de grupby pela contagem de registros exemplo: df_ocurrences.groupby(['divulgacao_relatorio_numero']).size()\r\n",
    "conditions = ['*** COLISÃO EM VOO COM OBSTÁCULO (excluir)']\r\n",
    "df_ocurrences_type = df_ocurrences_type.replace(conditions, 'COLISÃO EM VOO COM OBSTÁCULO')"
   ],
   "outputs": [],
   "metadata": {}
  },
  {
   "cell_type": "code",
   "execution_count": 19,
   "source": [
    "df_ocurrences_type.to_csv('Data_Trait/Data_csv_files/ocurrences_type_2010_2020.csv', encoding='utf-8')"
   ],
   "outputs": [],
   "metadata": {}
  }
 ],
 "metadata": {
  "orig_nbformat": 4,
  "language_info": {
   "name": "python",
   "version": "3.9.6",
   "mimetype": "text/x-python",
   "codemirror_mode": {
    "name": "ipython",
    "version": 3
   },
   "pygments_lexer": "ipython3",
   "nbconvert_exporter": "python",
   "file_extension": ".py"
  },
  "kernelspec": {
   "name": "python3",
   "display_name": "Python 3.9.6 64-bit"
  },
  "interpreter": {
   "hash": "2647ea34e536f865ab67ff9ddee7fd78773d956cec0cab53c79b32cd10da5d83"
  }
 },
 "nbformat": 4,
 "nbformat_minor": 2
}